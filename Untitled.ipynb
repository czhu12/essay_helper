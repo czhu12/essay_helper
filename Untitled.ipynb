{
 "cells": [
  {
   "cell_type": "code",
   "execution_count": 13,
   "metadata": {
    "collapsed": false
   },
   "outputs": [],
   "source": [
    "import wikipedia"
   ]
  },
  {
   "cell_type": "code",
   "execution_count": 14,
   "metadata": {
    "collapsed": false
   },
   "outputs": [
    {
     "name": "stdout",
     "output_type": "stream",
     "text": [
      "Wikipedia ( or  WIK-i-PEE-dee-ə) is a free online encyclopedia with the aim to allow anyone to edit articles. Wikipedia is the largest and most popular general reference work on the Internet and is ranked among the ten most popular websites. Wikipedia is owned by the nonprofit Wikimedia Foundation.\n",
      "Wikipedia was launched on January 15, 2001, by Jimmy Wales and Larry Sanger. Sanger coined its name, a portmanteau of wiki and encyclopedia. There was only the English-language version initially, but it quickly developed similar versions in other languages, which differ in content and in editing practices. With 5,449,481 articles, the English Wikipedia is the largest of the more than 290 Wikipedia encyclopedias. Overall, Wikipedia consists of more than 40 million articles in more than 250 different languages and, as of February 2014, it had 18 billion page views and nearly 500 million unique visitors each month.\n",
      "As of March 2017, Wikipedia has about forty thousand high-quality articles known as Featured Articles and Good Articles that cover vital topics. In 2005, Nature published a peer review comparing 42 science articles from Encyclopædia Britannica and Wikipedia, and found that Wikipedia's level of accuracy approached that of Encyclopædia Britannica.\n",
      "Wikipedia has been criticized for allegedly exhibiting systemic bias, presenting a mixture of \"truths, half truths, and some falsehoods\", and, in controversial topics, being subject to manipulation and spin.\n"
     ]
    }
   ],
   "source": [
    "print wikipedia.summary(\"Wikipedia\")\n"
   ]
  },
  {
   "cell_type": "code",
   "execution_count": 15,
   "metadata": {
    "collapsed": false
   },
   "outputs": [
    {
     "data": {
      "text/plain": [
       "[u'Barack Obama',\n",
       " u'Barack Obama in comics',\n",
       " u'Barack Obama Sr.',\n",
       " u'List of things named after Barack Obama',\n",
       " u'Bibliography of Barack Obama',\n",
       " u'Barack Obama: Der schwarze Kennedy',\n",
       " u'Inauguration of Barack Obama',\n",
       " u'Timeline of the presidency of Barack Obama',\n",
       " u'Barack and Michelle',\n",
       " u'Barack Obama Presidential Center']"
      ]
     },
     "execution_count": 15,
     "metadata": {},
     "output_type": "execute_result"
    }
   ],
   "source": [
    "wikipedia.search(\"Barack\")\n"
   ]
  },
  {
   "cell_type": "code",
   "execution_count": 20,
   "metadata": {
    "collapsed": false
   },
   "outputs": [
    {
     "data": {
      "text/plain": [
       "u'Biology is the natural science that involves the study of life and living organisms, including their physical and chemical structure, function, development and evolution. Modern biology is a vast field, composed of many branches. Despite the broad scope and the complexity of the science, there are certain unifying concepts that consolidate it into a single, coherent field. In general, biology recognizes the cell as the basic unit of life, genes as the basic unit of heredity, and evolution as the engine that propels the creation of new species. It is also understood that all organisms survive by consuming and transforming energy and by regulating their internal environment.\\nSub-disciplines of biology are defined by the scale at which life is studied, the kinds of organisms studied, and the methods used to study them: biochemistry examines the rudimentary chemistry of life; molecular biology studies the complex interactions among biological molecules; cellular biology examines the basic building-block of all life, the cell; physiology examines the physical and chemical functions of tissues, organs, and organ systems; ecology examines how organisms interact in their environment; and evolutionary biology examines the processes that produced the diversity of life.\\n\\n\\n== History ==\\n\\nThe term biology is derived from the Greek word \\u03b2\\u03af\\u03bf\\u03c2, bios, \"life\" and the suffix -\\u03bb\\u03bf\\u03b3\\u03af\\u03b1, -logia, \"study of.\" The Latin-language form of the term first appeared in 1736 when Swedish scientist Carl Linnaeus (Carl von Linn\\xe9) used biologi in his Bibliotheca botanica. It was used again in 1766 in a work entitled Philosophiae naturalis sive physicae: tomus III, continens geologian, biologian, phytologian generalis, by Michael Christoph Hanov, a disciple of Christian Wolff. The first German use, Biologie, was in a 1771 translation of Linnaeus\\' work. In 1797, Theodor Georg August Roose used the term in the preface of a book, Grundz\\xfcge der Lehre van der Lebenskraft. Karl Friedrich Burdach used the term in 1800 in a more restricted sense of the study of human beings from a morphological, physiological and psychological perspective (Prop\\xe4deutik zum Studien der gesammten Heilkunst). The term came into its modern usage with the six-volume treatise Biologie, oder Philosophie der lebenden Natur (1802\\u201322) by Gottfried Reinhold Treviranus, who announced:\\nThe objects of our research will be the different forms and manifestations of life, the conditions and laws under which these phenomena occur, and the causes through which they have been effected. The science that concerns itself with these objects we will indicate by the name biology [Biologie] or the doctrine of life [Lebenslehre].\\nAlthough modern biology is a relatively recent development, sciences related to and included within it have been studied since ancient times. Natural philosophy was studied as early as the ancient civilizations of Mesopotamia, Egypt, the Indian subcontinent, and China. However, the origins of modern biology and its approach to the study of nature are most often traced back to ancient Greece. While the formal study of medicine dates back to Hippocrates (ca. 460 BC \\u2013 ca. 370 BC), it was Aristotle (384 BC \\u2013 322 BC) who contributed most extensively to the development of biology. Especially important are his History of Animals and other works where he showed naturalist leanings, and later more empirical works that focused on biological causation and the diversity of life. Aristotle\\'s successor at the Lyceum, Theophrastus, wrote a series of books on botany that survived as the most important contribution of antiquity to the plant sciences, even into the Middle Ages.\\nScholars of the medieval Islamic world who wrote on biology included al-Jahiz (781\\u2013869), Al-D\\u012bnawar\\u012b (828\\u2013896), who wrote on botany, and Rhazes (865\\u2013925) who wrote on anatomy and physiology. Medicine was especially well studied by Islamic scholars working in Greek philosopher traditions, while natural history drew heavily on Aristotelian thought, especially in upholding a fixed hierarchy of life.\\nBiology began to quickly develop and grow with Anton van Leeuwenhoek\\'s dramatic improvement of the microscope. It was then that scholars discovered spermatozoa, bacteria, infusoria and the diversity of microscopic life. Investigations by Jan Swammerdam led to new interest in entomology and helped to develop the basic techniques of microscopic dissection and staining.\\nAdvances in microscopy also had a profound impact on biological thinking. In the early 19th century, a number of biologists pointed to the central importance of the cell. Then, in 1838, Schleiden and Schwann began promoting the now universal ideas that (1) the basic unit of organisms is the cell and (2) that individual cells have all the characteristics of life, although they opposed the idea that (3) all cells come from the division of other cells. Thanks to the work of Robert Remak and Rudolf Virchow, however, by the 1860s most biologists accepted all three tenets of what came to be known as cell theory.\\nMeanwhile, taxonomy and classification became the focus of natural historians. Carl Linnaeus published a basic taxonomy for the natural world in 1735 (variations of which have been in use ever since), and in the 1750s introduced scientific names for all his species. Georges-Louis Leclerc, Comte de Buffon, treated species as artificial categories and living forms as malleable\\u2014even suggesting the possibility of common descent. Though he was opposed to evolution, Buffon is a key figure in the history of evolutionary thought; his work influenced the evolutionary theories of both Lamarck and Darwin.\\nSerious evolutionary thinking originated with the works of Jean-Baptiste Lamarck, who was the first to present a coherent theory of evolution. He posited that evolution was the result of environmental stress on properties of animals, meaning that the more frequently and rigorously an organ was used, the more complex and efficient it would become, thus adapting the animal to its environment. Lamarck believed that these acquired traits could then be passed on to the animal\\'s offspring, who would further develop and perfect them. However, it was the British naturalist Charles Darwin, combining the biogeographical approach of Humboldt, the uniformitarian geology of Lyell, Malthus\\'s writings on population growth, and his own morphological expertise and extensive natural observations, who forged a more successful evolutionary theory based on natural selection; similar reasoning and evidence led Alfred Russel Wallace to independently reach the same conclusions. Although it was the subject of controversy (which continues to this day), Darwin\\'s theory quickly spread through the scientific community and soon became a central axiom of the rapidly developing science of biology.\\nThe discovery of the physical representation of heredity came along with evolutionary principles and population genetics. In the 1940s and early 1950s, experiments pointed to DNA as the component of chromosomes that held the trait-carrying units that had become known as genes. A focus on new kinds of model organisms such as viruses and bacteria, along with the discovery of the double helical structure of DNA in 1953, marked the transition to the era of molecular genetics. From the 1950s to present times, biology has been vastly extended in the molecular domain. The genetic code was cracked by Har Gobind Khorana, Robert W. Holley and Marshall Warren Nirenberg after DNA was understood to contain codons. Finally, the Human Genome Project was launched in 1990 with the goal of mapping the general human genome. This project was essentially completed in 2003, with further analysis still being published. The Human Genome Project was the first step in a globalized effort to incorporate accumulated knowledge of biology into a functional, molecular definition of the human body and the bodies of other organisms.\\n\\n\\n== Foundations of modern biology ==\\n\\n\\n=== Cell theory ===\\n\\nCell theory states that the cell is the fundamental unit of life, that all living things are composed of one or more cells, and that all cells arise from other cells through cell division. In multicellular organisms, every cell in the organism\\'s body derives ultimately from a single cell in a fertilized egg. The cell is also considered to be the basic unit in many pathological processes. In addition, the phenomenon of energy flow occurs in cells in processes that are part of the function known as metabolism. Finally, cells contain hereditary information (DNA), which is passed from cell to cell during cell division. Research into the origin of life, abiogenesis, amounts to an attempt to discover the origin of the first cells.\\n\\n\\n=== Evolution ===\\n\\nA central organizing concept in biology is that life changes and develops through evolution, and that all life-forms known have a common origin. The theory of evolution postulates that all organisms on the Earth, both living and extinct, have descended from a common ancestor or an ancestral gene pool. This universal common ancestor of all organisms is believed to have appeared about 3.5 billion years ago. Biologists regard the ubiquity of the genetic code as definitive evidence in favor of the theory of universal common descent for all bacteria, archaea, and eukaryotes (see: origin of life).\\nThe term \"evolution\" was introduced into the scientific lexicon by Jean-Baptiste de Lamarck in 1809, and fifty years later Charles Darwin posited a scientific model of natural selection as evolution\\'s driving force. (Alfred Russel Wallace is recognized as the co-discoverer of this concept as he helped research and experiment with the concept of evolution.) Evolution is now used to explain the great variations of life found on Earth.\\nDarwin theorized that species flourish or die when subjected to the processes of natural selection or selective breeding. Genetic drift was embraced as an additional mechanism of evolutionary development in the modern synthesis of the theory.\\nThe evolutionary history of the species\\u2014which describes the characteristics of the various species from which it descended\\u2014together with its genealogical relationship to every other species is known as its phylogeny. Widely varied approaches to biology generate information about phylogeny. These include the comparisons of DNA sequences, a product of molecular biology (more particularly genomics), and comparisons of fossils or other records of ancient organisms, a product of paleontology. Biologists organize and analyze evolutionary relationships through various methods, including phylogenetics, phenetics, and cladistics. (For a summary of major events in the evolution of life as currently understood by biologists, see evolutionary timeline.)\\nEvolution is relevant to the understanding of the natural history of life forms and to the understanding of the organization of current life forms. But, those organizations can only be understood in the light of how they came to be by way of the process of evolution. Consequently, evolution is central to all fields of biology.\\n\\n\\n=== Genetics ===\\n\\nGenes are the primary units of inheritance in all organisms. A gene is a unit of heredity and corresponds to a region of DNA that influences the form or function of an organism in specific ways. All organisms, from bacteria to animals, share the same basic machinery that copies and translates DNA into proteins. Cells transcribe a DNA gene into an RNA version of the gene, and a ribosome then translates the RNA into a sequence of amino acids known as a protein. The translation code from RNA codon to amino acid is the same for most organisms. For example, a sequence of DNA that codes for insulin in humans also codes for insulin when inserted into other organisms, such as plants.\\nDNA is found as linear chromosomes in eukaryotes, and circular chromosomes in prokaryotes. A chromosome is an organized structure consisting of DNA and histones. The set of chromosomes in a cell and any other hereditary information found in the mitochondria, chloroplasts, or other locations is collectively known as a cell\\'s genome. In eukaryotes, genomic DNA is localized in the cell nucleus, or with small amounts in mitochondria and chloroplasts. In prokaryotes, the DNA is held within an irregularly shaped body in the cytoplasm called the nucleoid. The genetic information in a genome is held within genes, and the complete assemblage of this information in an organism is called its genotype.\\n\\n\\n=== Homeostasis ===\\n\\nHomeostasis is the ability of an open system to regulate its internal environment to maintain stable conditions by means of multiple dynamic equilibrium adjustments that are controlled by interrelated regulation mechanisms. All living organisms, whether unicellular or multicellular, exhibit homeostasis.\\nTo maintain dynamic equilibrium and effectively carry out certain functions, a system must detect and respond to perturbations. After the detection of a perturbation, a biological system normally responds through negative feedback that stabilize conditions by reducing or increasing the activity of an organ or system. One example is the release of glucagon when sugar levels are too low.\\n\\n\\n=== Energy ===\\nThe survival of a living organism depends on the continuous input of energy. Chemical reactions that are responsible for its structure and function are tuned to extract energy from substances that act as its food and transform them to help form new cells and sustain them. In this process, molecules of chemical substances that constitute food play two roles; first, they contain energy that can be transformed and reused in that organism\\'s biological, chemical reactions; second, food can be transformed into new molecular structures (biomolecules) that are of use to that organism.\\nThe organisms responsible for the introduction of energy into an ecosystem are known as producers or autotrophs. Nearly all such organisms originally draw their energy from the sun. Plants and other phototrophs use solar energy via a process known as photosynthesis to convert raw materials into organic molecules, such as ATP, whose bonds can be broken to release energy. A few ecosystems, however, depend entirely on energy extracted by chemotrophs from methane, sulfides, or other non-luminal energy sources.\\nSome of the energy thus captured produces biomass and energy that is available for growth and development of other life forms. The majority of the rest of this biomass and energy are lost as waste molecules and heat. The most important processes for converting the energy trapped in chemical substances into energy useful to sustain life are metabolism and cellular respiration.\\n\\n\\n== Study and research ==\\n\\n\\n=== Structural ===\\n\\nMolecular biology is the study of biology at the molecular level. This field overlaps with other areas of biology, particularly those of genetics and biochemistry. Molecular biology is a study of the interactions of the various systems within a cell, including the interrelationships of DNA, RNA, and protein synthesis and how those interactions are regulated.\\nThe next larger scale, cell biology, studies the structural and physiological properties of cells, including their internal behavior, interactions with other cells, and with their environment. This is done on both the microscopic and molecular levels, for unicellular organisms such as bacteria, as well as the specialized cells of multicellular organisms such as humans. Understanding the structure and function of cells is fundamental to all of the biological sciences. The similarities and differences between cell types are particularly relevant to molecular biology.\\nAnatomy is a treatment of the macroscopic forms of such structures organs and organ systems.\\nGenetics is the science of genes, heredity, and the variation of organisms. Genes encode the information needed by cells for the synthesis of proteins, which in turn play a central role in influencing the final phenotype of the organism. Genetics provides research tools used in the investigation of the function of a particular gene, or the analysis of genetic interactions. Within organisms, genetic information is physically represented as chromosomes, within which it is represented by a particular sequence of amino acids in particular DNA molecules.\\nDevelopmental biology studies the process by which organisms grow and develop. Developmental biology, originated from embryology, studies the genetic control of cell growth, cellular differentiation, and \"cellular morphogenesis,\" which is the process that progressively gives rise to tissues, organs, and anatomy. Model organisms for developmental biology include the round worm Caenorhabditis elegans, the fruit fly Drosophila melanogaster, the zebrafish Danio rerio, the mouse Mus musculus, and the weed Arabidopsis thaliana. (A model organism is a species that is extensively studied to understand particular biological phenomena, with the expectation that discoveries made in that organism provide insight into the workings of other organisms.)\\n\\n\\n=== Physiological ===\\n\\nPhysiology is the study of the mechanical, physical, and biochemical processes of living organisms function as a whole. The theme of \"structure to function\" is central to biology. Physiological studies have traditionally been divided into plant physiology and animal physiology, but some principles of physiology are universal, no matter what particular organism is being studied. For example, what is learned about the physiology of yeast cells can also apply to human cells. The field of animal physiology extends the tools and methods of human physiology to non-human species. Plant physiology borrows techniques from both research fields.\\nPhysiology is the study the interaction of how, for example, the nervous, immune, endocrine, respiratory, and circulatory systems, function and interact. The study of these systems is shared with suchmedically oriented disciplines as neurology and immunology.\\n\\n\\n=== Evolutionary ===\\nEvolutionary research is concerned with the origin and descent of species, and their change over time. It employs scientists from many taxonomically oriented disciplines, for example, those with special training in particular organisms such as mammalogy, ornithology, botany, or herpetology, but are of use in answering more general questions about evolution.\\nEvolutionary biology is partly based on paleontology, which uses the fossil record to answer questions about the mode and tempo of evolution, and partly on the developments in areas such as population genetics. In the 1980s, developmental biology re-entered evolutionary biology after its initial exclusion from the modern synthesis through the study of evolutionary developmental biology. Phylogenetics, systematics, and taxonomy are related fields often considered part of evolutionary biology.\\n\\n\\n=== Systematic ===\\n\\nMultiple speciation events create a tree structured system of relationships between species. The role of systematics is to study these relationships and thus the differences and similarities between species and groups of species. However, systematics was an active field of research long before evolutionary thinking was common.\\nTraditionally, living things have been divided into five kingdoms: Monera; Protista; Fungi; Plantae; Animalia. However, many scientists now consider this five-kingdom system outdated. Modern alternative classification systems generally begin with the three-domain system: Archaea (originally Archaebacteria); Bacteria (originally Eubacteria) and Eukaryota (including protists, fungi, plants, and animals) These domains reflect whether the cells have nuclei or not, as well as differences in the chemical composition of key biomolecules such as ribosomes.\\nFurther, each kingdom is broken down recursively until each species is separately classified. The order is: Domain; Kingdom; Phylum; Class; Order; Family; Genus; Species.\\nOutside of these categories, there are obligate intracellular parasites that are \"on the edge of life\" in terms of metabolic activity, meaning that many scientists do not actually classify such structures as alive, due to their lack of at least one or more of the fundamental functions or characteristics that define life. They are classified as viruses, viroids, prions, or satellites.\\nThe scientific name of an organism is generated from its genus and species. For example, humans are listed as Homo sapiens. Homo is the genus, and sapiens the species. When writing the scientific name of an organism, it is proper to capitalize the first letter in the genus and put all of the species in lowercase. Additionally, the entire term may be italicized or underlined.\\nThe dominant classification system is called the Linnaean taxonomy. It includes ranks and binomial nomenclature. How organisms are named is governed by international agreements such as the International Code of Nomenclature for algae, fungi, and plants (ICN), the International Code of Zoological Nomenclature (ICZN), and the International Code of Nomenclature of Bacteria (ICNB). The classification of viruses, viroids, prions, and all other sub-viral agents that demonstrate biological characteristics is conducted by the International Committee on Taxonomy of Viruses (ICTV) and is known as the International Code of Viral Classification and Nomenclature (ICVCN). However, several other viral classification systems do exist.\\nA merging draft, BioCode, was published in 1997 in an attempt to standardize nomenclature in these three areas, but has yet to be formally adopted. The BioCode draft has received little attention since 1997; its originally planned implementation date of January 1, 2000, has passed unnoticed. A revised BioCode that, instead of replacing the existing codes, would provide a unified context for them, was proposed in 2011. However, the International Botanical Congress of 2011 declined to consider the BioCode proposal. The ICVCN remains outside the BioCode, which does not include viral classification.\\n\\n\\n=== Kingdoms ===\\n\\n\\n=== Ecological and environmental ===\\n\\nEcology is the study of the distribution and abundance of living organisms, the interaction between them and their environment. An organism shares an environment that includes other organisms and biotic factors as well as local abiotic factors (non-living) such as climate and ecology. One reason that biological systems can be difficult to study is that so many different interactions with other organisms and the environment are possible, even on small scales. A microscopic bacterium responding to a local sugar gradient is responding to its environment as much as a lion searching for food in the African savanna. For any species, behaviors can be co-operative, competitive, parasitic, or symbiotic. Matters become more complex when two or more species interact in an ecosystem.\\nEcological systems are studied at several different levels, from the scale of the ecology of individual organisms, to those of populations, to the ecosystems and finally the biosphere. The term population biology is often used interchangeably with population ecology, although population biology is more frequently used in the case of diseases, viruses, and microbes, while the term population ecology is more commonly applied to the study of plants and animals. Ecology draws on many subdisciplines.\\nEthology is the study of animal behavior (particularly that of social animals such as primates and canids), and is sometimes considered a branch of zoology. Ethologists have been particularly concerned with the evolution of behavior and the understanding of behavior in terms of the theory of natural selection. In one sense, the first modern ethologist was Charles Darwin, whose book, The Expression of the Emotions in Man and Animals, influenced many ethologists to come.\\nBiogeography studies the spatial distribution of organisms on the Earth, focusing on such topics as plate tectonics, climate change, dispersal and migration, and cladistics.\\n\\n\\n== Basic unresolved problems in biology ==\\n\\nDespite the profound advances made over recent decades in our understanding of life\\'s fundamental processes, some basic problems have remained unresolved. One of the major unresolved problems in biology is the primary adaptive function of sex, and particularly its key processes in eukaryotes of meiosis and homologous recombination. One view is that sex evolved primarily as an adaptation that promoted increased genetic diversity (see references e.g.). An alternative view is that sex is an adaptation for promoting accurate DNA repair in germ-line DNA, and that increased genetic diversity is primarily a byproduct that may be useful in the long run. (See also Evolution of sexual reproduction).\\nAnother basic unresolved problem in biology is the biologic basis of aging. At present, there is no consensus view on the underlying cause of aging. Various competing theories are outlined in Ageing Theories.\\n\\n\\n== Branches ==\\nThese are the main branches of biology:\\nAerobiology \\u2013 the study of airborne organic particles\\nAgriculture \\u2013 the study of producing crops and raising livestock, with an emphasis on practical applications\\nAnatomy \\u2013 the study of form and function, in plants, animals, and other organisms, or specifically in humans\\nHistology \\u2013 the study of cells and tissues, a microscopic branch of anatomy\\n\\nAstrobiology (also known as exobiology, exopaleontology, and bioastronomy) \\u2013 the study of evolution, distribution, and future of life in the universe\\nBiochemistry \\u2013 the study of the chemical reactions required for life to exist and function, usually a focus on the cellular level\\nBioengineering \\u2013 the study of biology through the means of engineering with an emphasis on applied knowledge and especially related to biotechnology\\nBiogeography \\u2013 the study of the distribution of species spatially and temporally\\nBioinformatics \\u2013 the use of information technology for the study, collection, and storage of genomic and other biological data\\nBiolinguistics \\u2013 the study of the biology and evolution of language.\\nBiomathematics (or Mathematical biology) \\u2013 the quantitative or mathematical study of biological processes, with an emphasis on modeling\\nBiomechanics \\u2013 the study of the mechanics of living beings\\nBiomedical research \\u2013 the study of health and disease\\nPharmacology \\u2013 the study and practical application of preparation, use, and effects of drugs and synthetic medicines\\n\\nBiomusicology \\u2013 the study of music from a biological point of view.\\nBiophysics \\u2013 the study of biological processes through physics, by applying the theories and methods traditionally used in the physical sciences\\nBiosemiotics \\u2013 the study of biological processes through semiotics, by applying the models of meaning-making and communication\\nBiotechnology \\u2013 the study of the manipulation of living matter, including genetic modification and synthetic biology\\nSynthetic biology \\u2013 research integrating biology and engineering; construction of biological functions not found in nature\\n\\nBuilding biology \\u2013 the study of the indoor living environment\\nBotany \\u2013 the study of plants\\nCell biology \\u2013 the study of the cell as a complete unit, and the molecular and chemical interactions that occur within a living cell\\nCognitive biology \\u2013 the study of cognition as a biological function\\nConservation biology \\u2013 the study of the preservation, protection, or restoration of the natural environment, natural ecosystems, vegetation, and wildlife\\nCryobiology \\u2013 the study of the effects of lower than normally preferred temperatures on living beings\\nDevelopmental biology \\u2013 the study of the processes through which an organism forms, from zygote to full structure\\nEmbryology \\u2013 the study of the development of embryo (from fecundation to birth)\\n\\nEcology \\u2013 the study of the interactions of living organisms with one another and with the non-living elements of their environment\\nEnvironmental biology \\u2013 the study of the natural world, as a whole or in a particular area, especially as affected by human activity\\nEpidemiology \\u2013 a major component of public health research, studying factors affecting the health of populations\\nEvolutionary biology \\u2013 the study of the origin and descent of species over time\\nGenetics \\u2013 the study of genes and heredity.\\nEpigenetics \\u2013 the study of heritable changes in gene expression or cellular phenotype caused by mechanisms other than changes in the underlying DNA sequence\\n\\nHematology (also known as Haematology) \\u2013 the study of blood and blood-forming organs.\\nIntegrative biology \\u2013 the study of whole organisms\\nLimnology \\u2013 the study of inland waters\\nMarine biology (or biological oceanography) \\u2013 the study of ocean ecosystems, plants, animals, and other living beings\\nMicrobiology \\u2013 the study of microscopic organisms (microorganisms) and their interactions with other living things\\nBacteriology \\u2013 the study of bacteria\\nMycology \\u2013 the study of fungi\\nParasitology \\u2013 the study of parasites and parasitism\\nVirology \\u2013 the study of viruses and some other virus-like agents\\n\\nMolecular biology \\u2013 the study of biology and biological functions at the molecular level, some cross over with biochemistry\\nNanobiology \\u2013 the study of how nanotechnology can be used in biology, and the study of living organisms and parts on the nanoscale level of organization\\nNeuroscience \\u2013 the study of the nervous system, including anatomy, physiology and pathology\\nPopulation biology \\u2013 the study of groups of conspecific organisms, including\\nPopulation ecology \\u2013 the study of how population dynamics and extinction\\nPopulation genetics \\u2013 the study of changes in gene frequencies in populations of organisms\\n\\nPaleontology \\u2013 the study of fossils and sometimes geographic evidence of prehistoric life\\nPathobiology or pathology \\u2013 the study of diseases, and the causes, processes, nature, and development of disease\\nPhysiology \\u2013 the study of the functioning of living organisms and the organs and parts of living organisms\\nPhytopathology \\u2013 the study of plant diseases (also called Plant Pathology)\\nPsychobiology \\u2013 the study of the biological bases of psychology\\nQuantum biology \\u2013 the study of quantum mechanics to biological objects and problems.\\nSociobiology \\u2013 the study of the biological bases of sociology\\nStructural biology \\u2013 a branch of molecular biology, biochemistry, and biophysics concerned with the molecular structure of biological macromolecules\\nZoology \\u2013 the study of animals, including classification, physiology, development, and behavior, including:\\nEthology \\u2013 the study of animal behavior\\nEntomology \\u2013 the study of insects\\nHerpetology \\u2013 the study of reptiles and amphibians\\nIchthyology \\u2013 the study of fish\\nMammalogy \\u2013 the study of mammals\\nOrnithology \\u2013 the study of birds\\n\\n\\n== See also ==\\n\\nGlossary of biology\\nList of biological websites\\nList of biologists\\nList of biology topics\\nList of omics topics in biology\\nList of biology journals\\nOutline of biology\\nReproduction\\nTerminology of biology\\nPeriodic table of life sciences in Tinbergen\\'s four questions\\n\\n\\n== References ==\\n\\n\\n== Further reading ==\\n\\n\\n== External links ==\\nBiology at DMOZ\\nOSU\\'s Phylocode\\nBiology Online \\u2013 Wiki Dictionary\\nMIT video lecture series on biology\\nBiology and Bioethics.\\nBiological Systems \\u2013 Idaho National Laboratory\\nThe Tree of Life: A multi-authored, distributed Internet project containing information about phylogeny and biodiversity.\\nThe Study of Biology\\nUsing the Biological Literature Web Resources\\nJournal links\\nPLos Biology A peer-reviewed, open-access journal published by the Public Library of Science\\nCurrent Biology General journal publishing original research from all areas of biology\\nBiology Letters A high-impact Royal Society journal publishing peer-reviewed Biology papers of general interest\\nScience Magazine Internationally Renowned AAAS Science Publication \\u2013 See Sections of the Life Sciences\\nInternational Journal of Biological Sciences A biological journal publishing significant peer-reviewed scientific papers\\nPerspectives in Biology and Medicine An interdisciplinary scholarly journal publishing essays of broad relevance\\nLife Science Log'"
      ]
     },
     "execution_count": 20,
     "metadata": {},
     "output_type": "execute_result"
    }
   ],
   "source": [
    "bio = wikipedia.page(\"Biology\")\n",
    "bio.content"
   ]
  },
  {
   "cell_type": "code",
   "execution_count": 23,
   "metadata": {
    "collapsed": true
   },
   "outputs": [],
   "source": [
    "import nltk\n",
    "from nltk import word_tokenize"
   ]
  },
  {
   "cell_type": "code",
   "execution_count": 29,
   "metadata": {
    "collapsed": false
   },
   "outputs": [],
   "source": [
    "text = bio.content.lower()\n"
   ]
  },
  {
   "cell_type": "code",
   "execution_count": 30,
   "metadata": {
    "collapsed": false
   },
   "outputs": [
    {
     "name": "stderr",
     "output_type": "stream",
     "text": [
      "Using TensorFlow backend.\n"
     ]
    }
   ],
   "source": [
    "from keras.models import Sequential\n",
    "from keras.layers import Dense, Activation\n",
    "from keras.layers import LSTM\n",
    "from keras.optimizers import RMSprop\n",
    "from keras.utils.data_utils import get_file\n",
    "import numpy as np\n",
    "import random\n",
    "import sys\n",
    "chars = sorted(list(set(text)))\n",
    "char_indices = dict((c, i) for i, c in enumerate(chars))\n",
    "indices_char = dict((i, c) for i, c in enumerate(chars))\n"
   ]
  },
  {
   "cell_type": "code",
   "execution_count": 31,
   "metadata": {
    "collapsed": false
   },
   "outputs": [
    {
     "name": "stdout",
     "output_type": "stream",
     "text": [
      "('nb sequences:', 10707)\n",
      "Vectorization...\n"
     ]
    }
   ],
   "source": [
    "maxlen = 40\n",
    "step = 3\n",
    "sentences = []\n",
    "next_chars = []\n",
    "for i in range(0, len(text) - maxlen, step):\n",
    "    sentences.append(text[i: i + maxlen])\n",
    "    next_chars.append(text[i + maxlen])\n",
    "print('nb sequences:', len(sentences))\n",
    "\n",
    "print('Vectorization...')\n",
    "X = np.zeros((len(sentences), maxlen, len(chars)), dtype=np.bool)\n",
    "y = np.zeros((len(sentences), len(chars)), dtype=np.bool)\n",
    "for i, sentence in enumerate(sentences):\n",
    "    for t, char in enumerate(sentence):\n",
    "        X[i, t, char_indices[char]] = 1\n",
    "    y[i, char_indices[next_chars[i]]] = 1\n",
    "\n"
   ]
  },
  {
   "cell_type": "code",
   "execution_count": 32,
   "metadata": {
    "collapsed": false
   },
   "outputs": [
    {
     "name": "stdout",
     "output_type": "stream",
     "text": [
      "Build model...\n"
     ]
    }
   ],
   "source": [
    "print('Build model...')\n",
    "model = Sequential()\n",
    "model.add(LSTM(128, input_shape=(maxlen, len(chars))))\n",
    "model.add(Dense(len(chars)))\n",
    "model.add(Activation('softmax'))\n",
    "\n",
    "optimizer = RMSprop(lr=0.01)\n",
    "model.compile(loss='categorical_crossentropy', optimizer=optimizer)\n",
    "\n"
   ]
  },
  {
   "cell_type": "code",
   "execution_count": null,
   "metadata": {
    "collapsed": false
   },
   "outputs": [
    {
     "name": "stdout",
     "output_type": "stream",
     "text": [
      "()\n",
      "--------------------------------------------------\n",
      "('Iteration', 1)\n",
      "Epoch 1/1\n",
      "10707/10707 [==============================] - 21s - loss: 0.3562    \n",
      "()\n",
      "('----- diversity:', 0.2)\n",
      "----- Generating with seed: \"a multi-authored, distributed internet p\"\n",
      "a multi-authored, distributed internet pratern development, sciences, and evolution included by the understion of organisms, furstory and biology. especially and hempotic modernally on batach in the use organisms, furstory of on betreved as himat cell lifecalls, and allication energy thes that are \"cological nore of biological are of an ots and entirtion of seciences the them: and the ctusation entanos of of the natural hemponing theori()\n",
      "()\n",
      "('----- diversity:', 0.5)\n",
      "----- Generating with seed: \"a multi-authored, distributed internet p\"\n",
      "a multi-authored, distributed internet pratern developmental biology – the study of biological ecine of living thiond of an ot studies and reled botany biology – the study of biological ach the biological ===\n",
      "\n",
      "\n",
      "=== ctural organisms and bactional endiviranes by whe study of biological are of an organisms\n",
      "pabtisces by mele of an organism and by resces biology ==\n",
      "\n",
      "the development, sciences, and a broled used by macted function, in particul()\n",
      "()\n",
      "('----- diversity:', 1.0)\n",
      "----- Generating with seed: \"a multi-authored, distributed internet p\"\n",
      "a multi-authored, distributed internet prateral biology is a feclives genolackeroriat inceged by.avines that studies systems are base (cospalipthine wes the premicusing and ecodyse by mellen and evolution. biology – the study of zasich as the study the fisst seovimation biology ==\n",
      "\n",
      "the finction, and inrgansis and studies syspemal biology, bor biology – the study of the biological basishis naterall) and anatosmin biology – the study of v()\n",
      "()\n",
      "('----- diversity:', 1.2)\n",
      "----- Generating with seed: \"a multi-authored, distributed internet p\"\n",
      "a multi-authored, distributed internet prateritic nature andimalh) entint research wor tod, in biose trology and howel neder, biological are an fosctuse oldent bionct, chemican es schediss genotics –nther the more and biodev"
     ]
    }
   ],
   "source": [
    "def sample(preds, temperature=1.0):\n",
    "    # helper function to sample an index from a probability array\n",
    "    preds = np.asarray(preds).astype('float64')\n",
    "    preds = np.log(preds) / temperature\n",
    "    exp_preds = np.exp(preds)\n",
    "    preds = exp_preds / np.sum(exp_preds)\n",
    "    probas = np.random.multinomial(1, preds, 1)\n",
    "    return np.argmax(probas)\n",
    "\n",
    "# train the model, output generated text after each iteration\n",
    "for iteration in range(1, 60):\n",
    "    print()\n",
    "    print('-' * 50)\n",
    "    print('Iteration', iteration)\n",
    "    model.fit(X, y,\n",
    "              batch_size=128,\n",
    "              epochs=1)\n",
    "\n",
    "    start_index = random.randint(0, len(text) - maxlen - 1)\n",
    "\n",
    "    for diversity in [0.2, 0.5, 1.0, 1.2]:\n",
    "        print()\n",
    "        print('----- diversity:', diversity)\n",
    "\n",
    "        generated = ''\n",
    "        sentence = text[start_index: start_index + maxlen]\n",
    "        generated += sentence\n",
    "        print('----- Generating with seed: \"' + sentence + '\"')\n",
    "        sys.stdout.write(generated)\n",
    "\n",
    "        for i in range(400):\n",
    "            x = np.zeros((1, maxlen, len(chars)))\n",
    "            for t, char in enumerate(sentence):\n",
    "                x[0, t, char_indices[char]] = 1.\n",
    "\n",
    "            preds = model.predict(x, verbose=0)[0]\n",
    "            next_index = sample(preds, diversity)\n",
    "            next_char = indices_char[next_index]\n",
    "\n",
    "            generated += next_char\n",
    "            sentence = sentence[1:] + next_char\n",
    "\n",
    "            sys.stdout.write(next_char)\n",
    "            sys.stdout.flush()\n",
    "        print()\n"
   ]
  },
  {
   "cell_type": "code",
   "execution_count": 37,
   "metadata": {
    "collapsed": false
   },
   "outputs": [
    {
     "name": "stdout",
     "output_type": "stream",
     "text": [
      "()\n",
      "('----- diversity:', 0.2)\n",
      "----- Generating with seed: \"\" the latin-language form of the term fi\"\n",
      "\" the latin-language form of the term fication entology – the study of the inderagic living the teson to e of the for condiding the ecies for gesces and sub-ing the ecolves as cerlling forcion of biology and beceations of modern evolutionary theories and human general hamidnes and syvellize of living being many studies of biological last, molecular several of biological are other human probes of life, ablling the ecology – the study of ()\n",
      "()\n",
      "('----- diversity:', 0.5)\n",
      "----- Generating with seed: \"\" the latin-language form of the term fi\"\n",
      "\" the latin-language form of the term fivany the cell is a karostadic, and wichist the organ estonces and home taply study of ain the inderactions of modern evolutionary theories as phithentely to s fion with en backed by the interaction of behavic no many general and edicins of evolutionary theories and hempotity of life, an structure of biology and bectristic life, ablogy ==\n",
      "\n",
      "deverstormatical book, whic biological study of the ecvirs ()\n",
      "()\n",
      "('----- diversity:', 1.0)\n",
      "----- Generating with seed: \"\" the latin-language form of the term fi\"\n",
      "\" the latin-language form of the term fical approcestoris live withe specially =rhication, which research –othe study of systermed and with the entirt anam structure .orging fouction of a bromeoh and turs. of scizral and withing the natural senclucurr and procust biological bast organizes of molecular sumvies and living the acient roweh org hasidm acliving the ecies for examplental organisms and home trate backed evor che complaxifincll()\n",
      "()\n",
      "('----- diversity:', 1.2)\n",
      "----- Generating with seed: \"\" the latin-language form of the term fi\"\n",
      "\" the latin-language form of the term fivan of the mechinilation, froms or the moips whech evolution, behanisms generation, a scied in ceunditional on systemular of outs organisms boome and human usepsotis – to de sciences and the study of the modernied to remeralic organisms and biothin  research ===\n",
      "\n",
      "=== chasmed endir of many privroub, living elose of particularly the elvology – the study of schuch whre etolopment, anfievand to moderc()\n"
     ]
    }
   ],
   "source": [
    "for diversity in [0.2, 0.5, 1.0, 1.2]:\n",
    "    print()\n",
    "    print('----- diversity:', diversity)\n",
    "\n",
    "    generated = ''\n",
    "    sentence = text[start_index: start_index + maxlen]\n",
    "    generated += sentence\n",
    "    print('----- Generating with seed: \"' + sentence + '\"')\n",
    "    sys.stdout.write(generated)\n",
    "\n",
    "    for i in range(400):\n",
    "        x = np.zeros((1, maxlen, len(chars)))\n",
    "        for t, char in enumerate(sentence):\n",
    "            x[0, t, char_indices[char]] = 1.\n",
    "\n",
    "        preds = model.predict(x, verbose=0)[0]\n",
    "        next_index = sample(preds, diversity)\n",
    "        next_char = indices_char[next_index]\n",
    "\n",
    "        generated += next_char\n",
    "        sentence = sentence[1:] + next_char\n",
    "\n",
    "        sys.stdout.write(next_char)\n",
    "        sys.stdout.flush()\n",
    "    print()\n"
   ]
  },
  {
   "cell_type": "code",
   "execution_count": 38,
   "metadata": {
    "collapsed": false
   },
   "outputs": [
    {
     "name": "stdout",
     "output_type": "stream",
     "text": [
      "_________________________________________________________________\n",
      "Layer (type)                 Output Shape              Param #   \n",
      "=================================================================\n",
      "lstm_1 (LSTM)                (None, 128)               98304     \n",
      "_________________________________________________________________\n",
      "dense_1 (Dense)              (None, 63)                8127      \n",
      "_________________________________________________________________\n",
      "activation_1 (Activation)    (None, 63)                0         \n",
      "=================================================================\n",
      "Total params: 106,431\n",
      "Trainable params: 106,431\n",
      "Non-trainable params: 0\n",
      "_________________________________________________________________\n"
     ]
    }
   ],
   "source": [
    "model.summary()"
   ]
  },
  {
   "cell_type": "code",
   "execution_count": 51,
   "metadata": {
    "collapsed": false
   },
   "outputs": [
    {
     "name": "stdout",
     "output_type": "stream",
     "text": [
      "----- Generating with seed: \"\" the latin-language form of the term fi\"\n",
      " the latin-language form of the term fic\n",
      "the latin-language form of the term ficc\n",
      "he latin-language form of the term ficcv\n",
      "e latin-language form of the term ficcvr\n",
      " latin-language form of the term ficcvrc\n",
      "latin-language form of the term ficcvrcc\n",
      "atin-language form of the term ficcvrccn\n",
      "tin-language form of the term ficcvrccnn\n",
      "in-language form of the term ficcvrccnnv\n",
      "n-language form of the term ficcvrccnnvc\n"
     ]
    }
   ],
   "source": [
    "import time\n",
    "generated = ''\n",
    "sentence = text[start_index: start_index + maxlen]\n",
    "generated += sentence\n",
    "print('----- Generating with seed: \"' + sentence + '\"')\n",
    "x = np.zeros((1, maxlen, len(chars)))\n",
    "for t, char in enumerate(sentence):\n",
    "    x[0, t, char_indices[char]] = 1.\n",
    "\n",
    "start = time.time()\n",
    "for i in range(10):\n",
    "    preds = model.predict(x)[0]\n",
    "    next_index = sample(preds, diversity)\n",
    "    next_char = indices_char[next_index]\n",
    "\n",
    "    generated += next_char\n",
    "    sentence = sentence[1:] + next_char\n",
    "    print(sentence)\n",
    "end = time.time()"
   ]
  },
  {
   "cell_type": "code",
   "execution_count": 50,
   "metadata": {
    "collapsed": false
   },
   "outputs": [
    {
     "data": {
      "text/plain": [
       "10"
      ]
     },
     "execution_count": 50,
     "metadata": {},
     "output_type": "execute_result"
    }
   ],
   "source": [
    "len('rvcvvccncn')"
   ]
  },
  {
   "cell_type": "code",
   "execution_count": null,
   "metadata": {
    "collapsed": true
   },
   "outputs": [],
   "source": []
  }
 ],
 "metadata": {
  "kernelspec": {
   "display_name": "Python 2",
   "language": "python",
   "name": "python2"
  },
  "language_info": {
   "codemirror_mode": {
    "name": "ipython",
    "version": 2
   },
   "file_extension": ".py",
   "mimetype": "text/x-python",
   "name": "python",
   "nbconvert_exporter": "python",
   "pygments_lexer": "ipython2",
   "version": "2.7.10"
  }
 },
 "nbformat": 4,
 "nbformat_minor": 0
}
